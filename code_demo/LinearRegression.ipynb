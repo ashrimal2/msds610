{
 "cells": [
  {
   "cell_type": "code",
   "execution_count": 2,
   "id": "b2a4cdc9-f2ed-4853-8ff4-6e82a27ac32c",
   "metadata": {},
   "outputs": [],
   "source": [
    "import numpy as np\n",
    "import matplotlib.pyplot as plt\n",
    "import pandas as pd\n",
    "import seaborn as sns"
   ]
  },
  {
   "cell_type": "markdown",
   "id": "ceeaf893-d02f-4464-a79e-086084a7ff04",
   "metadata": {},
   "source": [
    "# Definition\n",
    "Summary of **Linear Regression**\n",
    "\n",
    "Linear regression is a simple machine learning model which tries to establish a realtionship between a target variable y and a set of input features x, assuming that the underlying relationship between the two is linear in nature.\n",
    "\n",
    "\n",
    "## Formulation\n",
    "\n",
    "The linear regression equation can be represented as\n",
    "\n",
    "$$\\mathbf{ h_\\beta(x_{i}) = \\beta_0 + \\beta_1x_i }$$   \n",
    "$\\mathbf{\\beta_0,\\beta_1}$ are the parameters. Our goal is to estimate the parameters $\\mathbf{\\beta_0,\\beta_1}$ using the training data where $\\mathbf{(x_i, y_i)}$ are training examples"
   ]
  },
  {
   "cell_type": "code",
   "execution_count": 3,
   "id": "10e4db68-df6a-416a-a7fc-93a747b99442",
   "metadata": {},
   "outputs": [],
   "source": [
    "df = pd.read_csv('Credit.csv')"
   ]
  },
  {
   "cell_type": "markdown",
   "id": "bc3c8b31-5d7e-446a-84a2-8c7a4e95e486",
   "metadata": {},
   "source": [
    "## Dataset information\n",
    "\n",
    "1. Income: Income of the customer.\n",
    "2. Limit: Credit limit provided to the customer.\n",
    "3. Rating: The customer's credit rating.\n",
    "4. Cards: The number of credit cards the customer has.\n",
    "5. Age: Age of the customer.\n",
    "6. Education: Educational level of the customer.\n",
    "7. Gender: Sex of the customer.\n",
    "8. Student: If the customer is a student or not.\n",
    "9. Married: If the customer is married.¶\n",
    "10. Ethnicity: Ethnicity of the customer.\n",
    "11. Balance: Credit balance of the customer."
   ]
  },
  {
   "cell_type": "code",
   "execution_count": 4,
   "id": "826021c7-3a73-466c-9582-0dd694cf7ea6",
   "metadata": {},
   "outputs": [
    {
     "name": "stdout",
     "output_type": "stream",
     "text": [
      "\n",
      "Number of rows and columns in the data set:  (400, 12)\n",
      "\n"
     ]
    }
   ],
   "source": [
    "print('\\nNumber of rows and columns in the data set: ',df.shape)\n",
    "print('')"
   ]
  },
  {
   "cell_type": "code",
   "execution_count": 5,
   "id": "586ea926-f1de-4677-814f-19c133ce282a",
   "metadata": {},
   "outputs": [
    {
     "data": {
      "text/html": [
       "<div>\n",
       "<style scoped>\n",
       "    .dataframe tbody tr th:only-of-type {\n",
       "        vertical-align: middle;\n",
       "    }\n",
       "\n",
       "    .dataframe tbody tr th {\n",
       "        vertical-align: top;\n",
       "    }\n",
       "\n",
       "    .dataframe thead th {\n",
       "        text-align: right;\n",
       "    }\n",
       "</style>\n",
       "<table border=\"1\" class=\"dataframe\">\n",
       "  <thead>\n",
       "    <tr style=\"text-align: right;\">\n",
       "      <th></th>\n",
       "      <th>Unnamed: 0</th>\n",
       "      <th>Income</th>\n",
       "      <th>Limit</th>\n",
       "      <th>Rating</th>\n",
       "      <th>Cards</th>\n",
       "      <th>Age</th>\n",
       "      <th>Education</th>\n",
       "      <th>Gender</th>\n",
       "      <th>Student</th>\n",
       "      <th>Married</th>\n",
       "      <th>Ethnicity</th>\n",
       "      <th>Balance</th>\n",
       "    </tr>\n",
       "  </thead>\n",
       "  <tbody>\n",
       "    <tr>\n",
       "      <th>0</th>\n",
       "      <td>1</td>\n",
       "      <td>14.891</td>\n",
       "      <td>3606</td>\n",
       "      <td>283</td>\n",
       "      <td>2</td>\n",
       "      <td>34</td>\n",
       "      <td>11</td>\n",
       "      <td>Male</td>\n",
       "      <td>No</td>\n",
       "      <td>Yes</td>\n",
       "      <td>Caucasian</td>\n",
       "      <td>333</td>\n",
       "    </tr>\n",
       "    <tr>\n",
       "      <th>1</th>\n",
       "      <td>2</td>\n",
       "      <td>106.025</td>\n",
       "      <td>6645</td>\n",
       "      <td>483</td>\n",
       "      <td>3</td>\n",
       "      <td>82</td>\n",
       "      <td>15</td>\n",
       "      <td>Female</td>\n",
       "      <td>Yes</td>\n",
       "      <td>Yes</td>\n",
       "      <td>Asian</td>\n",
       "      <td>903</td>\n",
       "    </tr>\n",
       "    <tr>\n",
       "      <th>2</th>\n",
       "      <td>3</td>\n",
       "      <td>104.593</td>\n",
       "      <td>7075</td>\n",
       "      <td>514</td>\n",
       "      <td>4</td>\n",
       "      <td>71</td>\n",
       "      <td>11</td>\n",
       "      <td>Male</td>\n",
       "      <td>No</td>\n",
       "      <td>No</td>\n",
       "      <td>Asian</td>\n",
       "      <td>580</td>\n",
       "    </tr>\n",
       "    <tr>\n",
       "      <th>3</th>\n",
       "      <td>4</td>\n",
       "      <td>148.924</td>\n",
       "      <td>9504</td>\n",
       "      <td>681</td>\n",
       "      <td>3</td>\n",
       "      <td>36</td>\n",
       "      <td>11</td>\n",
       "      <td>Female</td>\n",
       "      <td>No</td>\n",
       "      <td>No</td>\n",
       "      <td>Asian</td>\n",
       "      <td>964</td>\n",
       "    </tr>\n",
       "    <tr>\n",
       "      <th>4</th>\n",
       "      <td>5</td>\n",
       "      <td>55.882</td>\n",
       "      <td>4897</td>\n",
       "      <td>357</td>\n",
       "      <td>2</td>\n",
       "      <td>68</td>\n",
       "      <td>16</td>\n",
       "      <td>Male</td>\n",
       "      <td>No</td>\n",
       "      <td>Yes</td>\n",
       "      <td>Caucasian</td>\n",
       "      <td>331</td>\n",
       "    </tr>\n",
       "  </tbody>\n",
       "</table>\n",
       "</div>"
      ],
      "text/plain": [
       "   Unnamed: 0   Income  Limit  Rating  Cards  Age  Education  Gender Student  \\\n",
       "0           1   14.891   3606     283      2   34         11    Male      No   \n",
       "1           2  106.025   6645     483      3   82         15  Female     Yes   \n",
       "2           3  104.593   7075     514      4   71         11    Male      No   \n",
       "3           4  148.924   9504     681      3   36         11  Female      No   \n",
       "4           5   55.882   4897     357      2   68         16    Male      No   \n",
       "\n",
       "  Married  Ethnicity  Balance  \n",
       "0     Yes  Caucasian      333  \n",
       "1     Yes      Asian      903  \n",
       "2      No      Asian      580  \n",
       "3      No      Asian      964  \n",
       "4     Yes  Caucasian      331  "
      ]
     },
     "execution_count": 5,
     "metadata": {},
     "output_type": "execute_result"
    }
   ],
   "source": [
    "df.head()"
   ]
  },
  {
   "cell_type": "markdown",
   "id": "388e0131-9441-4bae-bad7-7e4b7b1e98d5",
   "metadata": {},
   "source": [
    "There are $\\mathbf{m=400}$ observations and $\\mathbf{10}$ independent variables and $\\mathbf{1}$ dependent variable. The target variable here is Rating and remaining variables such as Income, Limit, Cards, Age Education, Gender, Student, Married, Ethnicity and Balance are predictors. \n",
    "\n",
    "The regression equation for SLR looks like when we consider Balance as the predictor variable\n",
    "\n",
    "$$\\mathbf{ \\hat{y_{i}} = \\hat{\\beta_0}+\\hat{\\beta_1} Balance}$$"
   ]
  },
  {
   "cell_type": "code",
   "execution_count": 6,
   "id": "9b9b48d5-77e5-4b25-b960-349490a653d9",
   "metadata": {},
   "outputs": [
    {
     "data": {
      "image/png": "[encoded data removed]",
      "text/plain": [
       "<Figure size 864x432 with 1 Axes>"
      ]
     },
     "metadata": {
      "needs_background": "light"
     },
     "output_type": "display_data"
    }
   ],
   "source": [
    "sns.lmplot(x='Balance',y='Rating',data=df,aspect=2,height=6)\n",
    "plt.xlabel('Balance: as Independent variable')\n",
    "plt.ylabel('Rating: as Dependent variable')\n",
    "plt.title('Balance Vs Rating');"
   ]
  },
  {
   "cell_type": "code",
   "execution_count": 6,
   "id": "b2163847-9a3a-4192-a35d-b9d547701313",
   "metadata": {},
   "outputs": [
    {
     "data": {
      "text/html": [
       "<table class=\"simpletable\">\n",
       "<caption>OLS Regression Results</caption>\n",
       "<tr>\n",
       "  <th>Dep. Variable:</th>         <td>Rating</td>      <th>  R-squared:         </th> <td>   0.746</td> \n",
       "</tr>\n",
       "<tr>\n",
       "  <th>Model:</th>                   <td>OLS</td>       <th>  Adj. R-squared:    </th> <td>   0.745</td> \n",
       "</tr>\n",
       "<tr>\n",
       "  <th>Method:</th>             <td>Least Squares</td>  <th>  F-statistic:       </th> <td>   1168.</td> \n",
       "</tr>\n",
       "<tr>\n",
       "  <th>Date:</th>             <td>Tue, 04 Oct 2022</td> <th>  Prob (F-statistic):</th> <td>1.90e-120</td>\n",
       "</tr>\n",
       "<tr>\n",
       "  <th>Time:</th>                 <td>13:56:49</td>     <th>  Log-Likelihood:    </th> <td> -2309.8</td> \n",
       "</tr>\n",
       "<tr>\n",
       "  <th>No. Observations:</th>      <td>   400</td>      <th>  AIC:               </th> <td>   4624.</td> \n",
       "</tr>\n",
       "<tr>\n",
       "  <th>Df Residuals:</th>          <td>   398</td>      <th>  BIC:               </th> <td>   4632.</td> \n",
       "</tr>\n",
       "<tr>\n",
       "  <th>Df Model:</th>              <td>     1</td>      <th>                     </th>     <td> </td>    \n",
       "</tr>\n",
       "<tr>\n",
       "  <th>Covariance Type:</th>      <td>nonrobust</td>    <th>                     </th>     <td> </td>    \n",
       "</tr>\n",
       "</table>\n",
       "<table class=\"simpletable\">\n",
       "<tr>\n",
       "      <td></td>         <th>coef</th>     <th>std err</th>      <th>t</th>      <th>P>|t|</th>  <th>[0.025</th>    <th>0.975]</th>  \n",
       "</tr>\n",
       "<tr>\n",
       "  <th>Intercept</th> <td>  203.8036</td> <td>    5.900</td> <td>   34.545</td> <td> 0.000</td> <td>  192.205</td> <td>  215.402</td>\n",
       "</tr>\n",
       "<tr>\n",
       "  <th>Balance</th>   <td>    0.2906</td> <td>    0.009</td> <td>   34.176</td> <td> 0.000</td> <td>    0.274</td> <td>    0.307</td>\n",
       "</tr>\n",
       "</table>\n",
       "<table class=\"simpletable\">\n",
       "<tr>\n",
       "  <th>Omnibus:</th>       <td>26.531</td> <th>  Durbin-Watson:     </th> <td>   1.978</td>\n",
       "</tr>\n",
       "<tr>\n",
       "  <th>Prob(Omnibus):</th> <td> 0.000</td> <th>  Jarque-Bera (JB):  </th> <td>  40.435</td>\n",
       "</tr>\n",
       "<tr>\n",
       "  <th>Skew:</th>          <td> 0.474</td> <th>  Prob(JB):          </th> <td>1.66e-09</td>\n",
       "</tr>\n",
       "<tr>\n",
       "  <th>Kurtosis:</th>      <td> 4.236</td> <th>  Cond. No.          </th> <td>1.05e+03</td>\n",
       "</tr>\n",
       "</table><br/><br/>Notes:<br/>[1] Standard Errors assume that the covariance matrix of the errors is correctly specified.<br/>[2] The condition number is large, 1.05e+03. This might indicate that there are<br/>strong multicollinearity or other numerical problems."
      ],
      "text/plain": [
       "<class 'statsmodels.iolib.summary.Summary'>\n",
       "\"\"\"\n",
       "                            OLS Regression Results                            \n",
       "==============================================================================\n",
       "Dep. Variable:                 Rating   R-squared:                       0.746\n",
       "Model:                            OLS   Adj. R-squared:                  0.745\n",
       "Method:                 Least Squares   F-statistic:                     1168.\n",
       "Date:                Tue, 04 Oct 2022   Prob (F-statistic):          1.90e-120\n",
       "Time:                        13:56:49   Log-Likelihood:                -2309.8\n",
       "No. Observations:                 400   AIC:                             4624.\n",
       "Df Residuals:                     398   BIC:                             4632.\n",
       "Df Model:                           1                                         \n",
       "Covariance Type:            nonrobust                                         \n",
       "==============================================================================\n",
       "                 coef    std err          t      P>|t|      [0.025      0.975]\n",
       "------------------------------------------------------------------------------\n",
       "Intercept    203.8036      5.900     34.545      0.000     192.205     215.402\n",
       "Balance        0.2906      0.009     34.176      0.000       0.274       0.307\n",
       "==============================================================================\n",
       "Omnibus:                       26.531   Durbin-Watson:                   1.978\n",
       "Prob(Omnibus):                  0.000   Jarque-Bera (JB):               40.435\n",
       "Skew:                           0.474   Prob(JB):                     1.66e-09\n",
       "Kurtosis:                       4.236   Cond. No.                     1.05e+03\n",
       "==============================================================================\n",
       "\n",
       "Notes:\n",
       "[1] Standard Errors assume that the covariance matrix of the errors is correctly specified.\n",
       "[2] The condition number is large, 1.05e+03. This might indicate that there are\n",
       "strong multicollinearity or other numerical problems.\n",
       "\"\"\""
      ]
     },
     "execution_count": 6,
     "metadata": {},
     "output_type": "execute_result"
    }
   ],
   "source": [
    "import statsmodels.formula.api as smf\n",
    "import statsmodels.api as sm\n",
    "\n",
    "model = smf.ols('Rating~Balance', df).fit()\n",
    "model.summary()"
   ]
  },
  {
   "cell_type": "code",
   "execution_count": 7,
   "id": "9f10d3a6-bf98-42aa-8664-16b584bfa11b",
   "metadata": {},
   "outputs": [
    {
     "data": {
      "text/plain": [
       "Intercept    203.803584\n",
       "Balance        0.290639\n",
       "dtype: float64"
      ]
     },
     "execution_count": 7,
     "metadata": {},
     "output_type": "execute_result"
    }
   ],
   "source": [
    "model.params"
   ]
  },
  {
   "cell_type": "code",
   "execution_count": 8,
   "id": "93239b16-c3af-486d-91ee-05a186aaa03d",
   "metadata": {},
   "outputs": [],
   "source": [
    "y_hat = model.params.Intercept + model.params.Balance*df['Balance']"
   ]
  },
  {
   "cell_type": "markdown",
   "id": "d9c8bb43-6b1f-4dc9-ad10-1d6f510f0b61",
   "metadata": {},
   "source": [
    "## Model Validation\n",
    "To verify that the assumptions for a *Linear Regression* model are not violated, we need to check for the following:\n",
    "1. Is the relationship between between the dependent and independent variable *linear*.\n",
    "2. Are the residual errors *normally* distributed.\n",
    "3. Is the variance of the residuals constant i.e. do the residuals follow homoscedasticity"
   ]
  },
  {
   "cell_type": "code",
   "execution_count": 9,
   "id": "73476391-5800-44cb-afa2-f6a4f9e47715",
   "metadata": {},
   "outputs": [
    {
     "data": {
      "text/plain": [
       "<matplotlib.collections.PathCollection at 0x7fd04290b370>"
      ]
     },
     "execution_count": 9,
     "metadata": {},
     "output_type": "execute_result"
    },
    {
     "data": {
      "image/png": "[encoded data removed]",
      "text/plain": [
       "<Figure size 432x288 with 1 Axes>"
      ]
     },
     "metadata": {
      "needs_background": "light"
     },
     "output_type": "display_data"
    }
   ],
   "source": [
    "p = model.fittedvalues\n",
    "res = model.resid\n",
    "plt.scatter(p, res)"
   ]
  },
  {
   "cell_type": "code",
   "execution_count": 10,
   "id": "a225756c-1d8d-4840-8bc0-986881b95641",
   "metadata": {},
   "outputs": [
    {
     "data": {
      "text/plain": [
       "'0.000000'"
      ]
     },
     "execution_count": 10,
     "metadata": {},
     "output_type": "execute_result"
    }
   ],
   "source": [
    "'{:f}'.format(round(np.mean(res)))"
   ]
  },
  {
   "cell_type": "code",
   "execution_count": 11,
   "id": "1c5888b3-8c3b-445f-ad6c-2d002af3f8e1",
   "metadata": {},
   "outputs": [
    {
     "data": {
      "image/png": "[encoded data removed]",
      "text/plain": [
       "<Figure size 432x288 with 1 Axes>"
      ]
     },
     "metadata": {
      "needs_background": "light"
     },
     "output_type": "display_data"
    }
   ],
   "source": [
    "fig = sm.qqplot(model.resid)"
   ]
  },
  {
   "cell_type": "markdown",
   "id": "12006e4e-7193-4a9f-a167-2113a08fd31f",
   "metadata": {},
   "source": [
    "## Regression equation for MLR\n",
    "\n",
    "In case of more than one independent variable (Multiple linear regression), we will use $\\mathbf{x_{ij}}$ to denote the indepedent variable and $\\mathbf{y_{i}}$ to denote the dependent variable.\n",
    "\n",
    "The linear regression equation can be represented as\n",
    "\n",
    "$$\\mathbf{h_\\beta(x_{i}) = \\beta_0 + \\beta_1x_{i1} + \\beta_2 x_{i2} + .... \\beta_n  x_{in} }$$  \n",
    "$\\mathbf{\\beta_0,\\beta_1,...,\\beta_n}$ are the parameters."
   ]
  },
  {
   "cell_type": "markdown",
   "id": "42151f18-7015-4189-8d86-c375c7628c75",
   "metadata": {},
   "source": [
    "The hypothesis function for MLR with four features looks like\n",
    "\n",
    "$$\\mathbf{ \\hat{y_{i}} = \\hat{\\beta_0}+\\hat{\\beta_1} Income + \\hat{\\beta_2} Limit + \\hat{\\beta_3} Cards + \\hat{\\beta_4} Gender}$$"
   ]
  },
  {
   "cell_type": "code",
   "execution_count": 12,
   "id": "11601cc5-618e-4617-b5f9-adb3de9d57b8",
   "metadata": {},
   "outputs": [
    {
     "data": {
      "text/html": [
       "<table class=\"simpletable\">\n",
       "<caption>OLS Regression Results</caption>\n",
       "<tr>\n",
       "  <th>Dep. Variable:</th>         <td>Rating</td>      <th>  R-squared:         </th> <td>   0.996</td> \n",
       "</tr>\n",
       "<tr>\n",
       "  <th>Model:</th>                   <td>OLS</td>       <th>  Adj. R-squared:    </th> <td>   0.996</td> \n",
       "</tr>\n",
       "<tr>\n",
       "  <th>Method:</th>             <td>Least Squares</td>  <th>  F-statistic:       </th> <td>2.258e+04</td>\n",
       "</tr>\n",
       "<tr>\n",
       "  <th>Date:</th>             <td>Tue, 04 Oct 2022</td> <th>  Prob (F-statistic):</th>  <td>  0.00</td>  \n",
       "</tr>\n",
       "<tr>\n",
       "  <th>Time:</th>                 <td>13:56:51</td>     <th>  Log-Likelihood:    </th> <td> -1496.5</td> \n",
       "</tr>\n",
       "<tr>\n",
       "  <th>No. Observations:</th>      <td>   400</td>      <th>  AIC:               </th> <td>   3003.</td> \n",
       "</tr>\n",
       "<tr>\n",
       "  <th>Df Residuals:</th>          <td>   395</td>      <th>  BIC:               </th> <td>   3023.</td> \n",
       "</tr>\n",
       "<tr>\n",
       "  <th>Df Model:</th>              <td>     4</td>      <th>                     </th>     <td> </td>    \n",
       "</tr>\n",
       "<tr>\n",
       "  <th>Covariance Type:</th>      <td>nonrobust</td>    <th>                     </th>     <td> </td>    \n",
       "</tr>\n",
       "</table>\n",
       "<table class=\"simpletable\">\n",
       "<tr>\n",
       "          <td></td>            <th>coef</th>     <th>std err</th>      <th>t</th>      <th>P>|t|</th>  <th>[0.025</th>    <th>0.975]</th>  \n",
       "</tr>\n",
       "<tr>\n",
       "  <th>Intercept</th>        <td>   24.5074</td> <td>    1.711</td> <td>   14.324</td> <td> 0.000</td> <td>   21.144</td> <td>   27.871</td>\n",
       "</tr>\n",
       "<tr>\n",
       "  <th>Gender[T.Female]</th> <td>    0.1991</td> <td>    1.028</td> <td>    0.194</td> <td> 0.846</td> <td>   -1.821</td> <td>    2.220</td>\n",
       "</tr>\n",
       "<tr>\n",
       "  <th>Income</th>           <td>    0.0343</td> <td>    0.024</td> <td>    1.436</td> <td> 0.152</td> <td>   -0.013</td> <td>    0.081</td>\n",
       "</tr>\n",
       "<tr>\n",
       "  <th>Limit</th>            <td>    0.0664</td> <td>    0.000</td> <td>  181.801</td> <td> 0.000</td> <td>    0.066</td> <td>    0.067</td>\n",
       "</tr>\n",
       "<tr>\n",
       "  <th>Cards</th>            <td>    4.8817</td> <td>    0.375</td> <td>   13.013</td> <td> 0.000</td> <td>    4.144</td> <td>    5.619</td>\n",
       "</tr>\n",
       "</table>\n",
       "<table class=\"simpletable\">\n",
       "<tr>\n",
       "  <th>Omnibus:</th>       <td> 7.541</td> <th>  Durbin-Watson:     </th> <td>   2.096</td>\n",
       "</tr>\n",
       "<tr>\n",
       "  <th>Prob(Omnibus):</th> <td> 0.023</td> <th>  Jarque-Bera (JB):  </th> <td>   6.229</td>\n",
       "</tr>\n",
       "<tr>\n",
       "  <th>Skew:</th>          <td> 0.220</td> <th>  Prob(JB):          </th> <td>  0.0444</td>\n",
       "</tr>\n",
       "<tr>\n",
       "  <th>Kurtosis:</th>      <td> 2.575</td> <th>  Cond. No.          </th> <td>1.82e+04</td>\n",
       "</tr>\n",
       "</table><br/><br/>Notes:<br/>[1] Standard Errors assume that the covariance matrix of the errors is correctly specified.<br/>[2] The condition number is large, 1.82e+04. This might indicate that there are<br/>strong multicollinearity or other numerical problems."
      ],
      "text/plain": [
       "<class 'statsmodels.iolib.summary.Summary'>\n",
       "\"\"\"\n",
       "                            OLS Regression Results                            \n",
       "==============================================================================\n",
       "Dep. Variable:                 Rating   R-squared:                       0.996\n",
       "Model:                            OLS   Adj. R-squared:                  0.996\n",
       "Method:                 Least Squares   F-statistic:                 2.258e+04\n",
       "Date:                Tue, 04 Oct 2022   Prob (F-statistic):               0.00\n",
       "Time:                        13:56:51   Log-Likelihood:                -1496.5\n",
       "No. Observations:                 400   AIC:                             3003.\n",
       "Df Residuals:                     395   BIC:                             3023.\n",
       "Df Model:                           4                                         \n",
       "Covariance Type:            nonrobust                                         \n",
       "====================================================================================\n",
       "                       coef    std err          t      P>|t|      [0.025      0.975]\n",
       "------------------------------------------------------------------------------------\n",
       "Intercept           24.5074      1.711     14.324      0.000      21.144      27.871\n",
       "Gender[T.Female]     0.1991      1.028      0.194      0.846      -1.821       2.220\n",
       "Income               0.0343      0.024      1.436      0.152      -0.013       0.081\n",
       "Limit                0.0664      0.000    181.801      0.000       0.066       0.067\n",
       "Cards                4.8817      0.375     13.013      0.000       4.144       5.619\n",
       "==============================================================================\n",
       "Omnibus:                        7.541   Durbin-Watson:                   2.096\n",
       "Prob(Omnibus):                  0.023   Jarque-Bera (JB):                6.229\n",
       "Skew:                           0.220   Prob(JB):                       0.0444\n",
       "Kurtosis:                       2.575   Cond. No.                     1.82e+04\n",
       "==============================================================================\n",
       "\n",
       "Notes:\n",
       "[1] Standard Errors assume that the covariance matrix of the errors is correctly specified.\n",
       "[2] The condition number is large, 1.82e+04. This might indicate that there are\n",
       "strong multicollinearity or other numerical problems.\n",
       "\"\"\""
      ]
     },
     "execution_count": 12,
     "metadata": {},
     "output_type": "execute_result"
    }
   ],
   "source": [
    "model_mlr = smf.ols('Rating ~ Income+Limit+Cards+Gender', df).fit()\n",
    "model_mlr.summary()"
   ]
  },
  {
   "cell_type": "code",
   "execution_count": 13,
   "id": "63ef6b91-480f-427d-a1e3-5f0a793b1f5a",
   "metadata": {},
   "outputs": [
    {
     "data": {
      "text/plain": [
       "<matplotlib.collections.PathCollection at 0x7fd041d786a0>"
      ]
     },
     "execution_count": 13,
     "metadata": {},
     "output_type": "execute_result"
    },
    {
     "data": {
      "image/png": "[encoded data removed]",
      "text/plain": [
       "<Figure size 432x288 with 1 Axes>"
      ]
     },
     "metadata": {
      "needs_background": "light"
     },
     "output_type": "display_data"
    }
   ],
   "source": [
    "p_mlr = model_mlr.fittedvalues\n",
    "res_mlr = model_mlr.resid\n",
    "plt.scatter(p_mlr, res_mlr)"
   ]
  },
  {
   "cell_type": "code",
   "execution_count": 14,
   "id": "2549b9fc-9b79-4b90-92ec-8eea674d7bdc",
   "metadata": {},
   "outputs": [
    {
     "data": {
      "image/png": "[encoded data removed]",
      "text/plain": [
       "<Figure size 432x288 with 1 Axes>"
      ]
     },
     "metadata": {
      "needs_background": "light"
     },
     "output_type": "display_data"
    }
   ],
   "source": [
    "fig = sm.qqplot(model_mlr.resid)"
   ]
  },
  {
   "cell_type": "code",
   "execution_count": 15,
   "id": "5782d97f-4c85-4436-8004-a20927124cc8",
   "metadata": {},
   "outputs": [
    {
     "data": {
      "text/plain": [
       "'0.000000'"
      ]
     },
     "execution_count": 15,
     "metadata": {},
     "output_type": "execute_result"
    }
   ],
   "source": [
    "'{:f}'.format(round(np.mean(res)))"
   ]
  },
  {
   "cell_type": "code",
   "execution_count": null,
   "id": "440684f1-b3ff-4e98-b32e-15b52a8da078",
   "metadata": {},
   "outputs": [],
   "source": []
  }
 ],
 "metadata": {
  "kernelspec": {
   "display_name": "Python 3 (ipykernel)",
   "language": "python",
   "name": "python3"
  },
  "language_info": {
   "codemirror_mode": {
    "name": "ipython",
    "version": 3
   },
   "file_extension": ".py",
   "mimetype": "text/x-python",
   "name": "python",
   "nbconvert_exporter": "python",
   "pygments_lexer": "ipython3",
   "version": "3.9.13"
  }
 },
 "nbformat": 4,
 "nbformat_minor": 5
}
